{
  "nbformat": 4,
  "nbformat_minor": 0,
  "metadata": {
    "colab": {
      "provenance": []
    },
    "kernelspec": {
      "name": "python3",
      "display_name": "Python 3"
    },
    "language_info": {
      "name": "python"
    }
  },
  "cells": [
    {
      "cell_type": "code",
      "source": [
        "!pip install groq"
      ],
      "metadata": {
        "colab": {
          "base_uri": "https://localhost:8080/"
        },
        "collapsed": true,
        "id": "t27IAYWv-p5b",
        "outputId": "7191af11-64fb-4849-833f-4012a7833632"
      },
      "execution_count": null,
      "outputs": [
        {
          "output_type": "stream",
          "name": "stdout",
          "text": [
            "Collecting groq\n",
            "  Using cached groq-0.23.0-py3-none-any.whl.metadata (15 kB)\n",
            "Requirement already satisfied: anyio<5,>=3.5.0 in /usr/local/lib/python3.11/dist-packages (from groq) (4.9.0)\n",
            "Requirement already satisfied: distro<2,>=1.7.0 in /usr/local/lib/python3.11/dist-packages (from groq) (1.9.0)\n",
            "Requirement already satisfied: httpx<1,>=0.23.0 in /usr/local/lib/python3.11/dist-packages (from groq) (0.28.1)\n",
            "Requirement already satisfied: pydantic<3,>=1.9.0 in /usr/local/lib/python3.11/dist-packages (from groq) (2.11.3)\n",
            "Requirement already satisfied: sniffio in /usr/local/lib/python3.11/dist-packages (from groq) (1.3.1)\n",
            "Requirement already satisfied: typing-extensions<5,>=4.10 in /usr/local/lib/python3.11/dist-packages (from groq) (4.13.2)\n",
            "Requirement already satisfied: idna>=2.8 in /usr/local/lib/python3.11/dist-packages (from anyio<5,>=3.5.0->groq) (3.10)\n",
            "Requirement already satisfied: certifi in /usr/local/lib/python3.11/dist-packages (from httpx<1,>=0.23.0->groq) (2025.1.31)\n",
            "Requirement already satisfied: httpcore==1.* in /usr/local/lib/python3.11/dist-packages (from httpx<1,>=0.23.0->groq) (1.0.8)\n",
            "Requirement already satisfied: h11<0.15,>=0.13 in /usr/local/lib/python3.11/dist-packages (from httpcore==1.*->httpx<1,>=0.23.0->groq) (0.14.0)\n",
            "Requirement already satisfied: annotated-types>=0.6.0 in /usr/local/lib/python3.11/dist-packages (from pydantic<3,>=1.9.0->groq) (0.7.0)\n",
            "Requirement already satisfied: pydantic-core==2.33.1 in /usr/local/lib/python3.11/dist-packages (from pydantic<3,>=1.9.0->groq) (2.33.1)\n",
            "Requirement already satisfied: typing-inspection>=0.4.0 in /usr/local/lib/python3.11/dist-packages (from pydantic<3,>=1.9.0->groq) (0.4.0)\n",
            "Using cached groq-0.23.0-py3-none-any.whl (127 kB)\n",
            "Installing collected packages: groq\n",
            "Successfully installed groq-0.23.0\n"
          ]
        }
      ]
    },
    {
      "cell_type": "code",
      "source": [
        "import os\n",
        "\n",
        "os.environ['GROQ_API_KEY'] = '' #Insira uma chave válida\n"
      ],
      "metadata": {
        "id": "4bCJTo3C-flG"
      },
      "execution_count": null,
      "outputs": []
    },
    {
      "cell_type": "code",
      "source": [
        "from groq import Groq"
      ],
      "metadata": {
        "id": "VPBYxXJi_EHo"
      },
      "execution_count": null,
      "outputs": []
    },
    {
      "cell_type": "code",
      "source": [
        "client = Groq(\n",
        "    api_key=os.environ.get(\"GROQ_API_KEY\"),\n",
        ")\n",
        "\n",
        "chat_completion = client.chat.completions.create(\n",
        "    messages=[\n",
        "        {\n",
        "            \"role\": \"system\",\n",
        "            \"content\": \"Você é um assistente virtual e deve analisar e classificar os sentimentos expressos em uma frase ou texto, retornando a polaridade (positivo, neutro, negativo) e o score.\"\n",
        "        },\n",
        "        {\n",
        "            \"role\": \"assistant\",\n",
        "            \"content\": \"\"\"\n",
        "                extraia as entidades, desejos e intenções, faça uma analise de sentimento (POSITIVO, NEGATIVO, NEUTRO) e classifique o texto com rótulos semanticos..\n",
        "\n",
        "                entidades -> lista de string com as entidades extraidas. (deve possuir pelo menos 2 entidades). (lista). (obrigatório).\n",
        "                entidades.entidade-> termo ou expressão que representa um objeto no mundo real. (objeto). (obrigatório).\n",
        "                entidades.entidade.descricao-> descrição do termo ou expressão extraido. (texto). (obrigatório).\n",
        "                entidades.entidade.probabilidade-> probabilidade do termo ou expressão extraido representar o objeto no mundo real. (ponto flutuante min 0, max 1). (obrigatório).\n",
        "\n",
        "                desejos -> lista de string com os desejos extraidos. (deve possuir pelo menos 1 desejo). (lista). (obrigatório).\n",
        "                desejos.desejo-> estado ou condição de uma entidade, representa algo que se gostaria de fazer ou alcançar, os desejos podem ser implicitos ou explicitos. (objeto) .(obrigatório).\n",
        "                desejos.desejo.descricao-> descricao do desejo extraido. (texto). (obrigatório).\n",
        "                desejos.desejo.tipo-> categoria: IMPLICITO, EXPLICITO. (categoria). (obrigatório).\n",
        "                desejos.desejo.probabilidade-> probabilidade do desejo extraido. (ponto flutuante min 0, max 1). (obrigatório).\n",
        "\n",
        "                sentiment_analisys -> tom emocional ou sentimental extraido do texto (objeto). (obrigatório).\n",
        "                sentiment_analisys.description -> categoria: POSITIVO, NEGATIVO, NEUTRO. (objeto). (obrigatório).\n",
        "                sentiment_analisys.probabilidade -> probabilidade do desejo sentimento extraido. (ponto flutuante min 0, max 1). (obrigatório).\n",
        "\n",
        "                intencao -> a intenção é o objetivo ou propósito por trás de uma mensagem ou texto.\n",
        "                    É a razão pela qual alguém está escrevendo ou falando, e é frequentemente expressa por meio de palavras-chave, frases ou sentenças que indicam o que alguém está procurando ou pretendendo. (objeto). (obrigatório).\n",
        "                intencao.descricao-> descricao do objetivo ou propósito. (texto). (obrigatório).\n",
        "\n",
        "                rotulos -> caracteristicas do conteúdo. (deve possuir pelo menos 2 categorias). (texto), (obrigatório).\n",
        "\n",
        "                analise_semantica-> os significados das entidades, desejos, sentimento e intenções do conteúdo. (texto). (obrigatório).\n",
        "\n",
        "                analise_comportamento -> resultado da analise do especialista. (texto). (obrigatório).\n",
        "\n",
        "                acao_imediata-> o que deve ser feito nesse cenario. (texto). (obrigatório).\n",
        "\n",
        "                instrução 1: gere os valores em portugês do brasil com traduções apropriadas semanticamente.\n",
        "                instrução 2: gere um json formatado.\n",
        "\n",
        "                {\n",
        "                    \"entidades\": [\n",
        "                        {\n",
        "                            \"entidade\": {\n",
        "                                \"descricao\": \"string\",\n",
        "                                \"probabilidade\": \"number (0-1)\"\n",
        "                            }\n",
        "                        },\n",
        "                        {\n",
        "                            \"entidade\": {\n",
        "                                \"descricao\": \"string\",\n",
        "                                \"probabilidade\": \"number (0-1)\"\n",
        "                            }\n",
        "                        }\n",
        "                    ],\n",
        "                    \"desejos\": [\n",
        "                        {\n",
        "                            \"desejo\": {\n",
        "                                \"descricao\": \"string\",\n",
        "                                \"tipo\": \"string (implicito, explicito)\",\n",
        "                                \"probabilidade\": \"number (0-1)\"\n",
        "                            }\n",
        "                        },\n",
        "                        {\n",
        "                            \"desejo\": {\n",
        "                                \"descricao\": \"string\",\n",
        "                                \"tipo\": \"string (implicito, explicito)\",\n",
        "                                \"probabilidade\": \"number (0-1)\"\n",
        "                            }\n",
        "                        }\n",
        "                    ],\n",
        "                    \"analise_sentimento\": {\n",
        "                        \"descricao\": \"string (positivo, negativo, neutro)\",\n",
        "                        \"probabilidade\": \"number (0-1)\"\n",
        "                    },\n",
        "                    \"intencao\": {\n",
        "                        \"descricao\": \"string\"\n",
        "                    },\n",
        "                    \"rotulos\": [\n",
        "                        \"string\",\n",
        "                        \"string\",\n",
        "                        \"string\"\n",
        "                    ],\n",
        "                    \"analise_semantica\": \"string\",\n",
        "                    \"analise_comportamento\": \"string\",\n",
        "                    \"acao_imediata\": \"\"\n",
        "                }\n",
        "            \"\"\"\n",
        "        },\n",
        "        {\n",
        "            \"role\": \"user\",\n",
        "            \"content\": \"Meu nome é Erick eu moro em São Paulo e estudo no Senac\"\n",
        "        }\n",
        "    ],\n",
        "    model=\"llama3-8b-8192\",\n",
        ")\n",
        "\n",
        "print(chat_completion.choices[0].message.content)\n"
      ],
      "metadata": {
        "colab": {
          "base_uri": "https://localhost:8080/"
        },
        "id": "Aim84ojd_rY9",
        "outputId": "cb48db69-5694-4ef1-b36b-2e924d3ef691",
        "collapsed": true
      },
      "execution_count": null,
      "outputs": [
        {
          "output_type": "stream",
          "name": "stdout",
          "text": [
            "Prazer em conhecê-lo, Erick! Eu sou um assistente virtual e estou aqui para ajudá-lo em qualquer questão que você possa ter.\n",
            "\n",
            "Vou analisar o texto que você forneceu: \"Eu moro em São Paulo e estudo no Senac\"\n",
            "\n",
            "**Entidades**\n",
            "\n",
            "* São Paulo: uma cidade (probabilidade: 0.9)\n",
            "* Senac: uma instituição de ensino (probabilidade: 0.8)\n",
            "\n",
            "**Desejos**\n",
            "\n",
            "* Nenhum desejo detectado (espero que você não tenha um desejo escondido)\n",
            "\n",
            "**Análise de Sentimento**\n",
            "\n",
            "* Tom emocional: NEUTRO (probabilidade: 0.9)\n",
            "\n",
            "**Intenção**\n",
            "\n",
            "* A intenção é explicar onde você mora e onde você estuda (descricao: \"Familiarizar-se com o local de moradia e de estudo\")\n",
            "\n",
            "**Rótulos**\n",
            "\n",
            "* Uma característica do conteúdo: Informação biográfica (categoria: Informação pessoal)\n",
            "\n",
            "**Análise Semântica**\n",
            "\n",
            "* O conteúdo é uma breve apresentação de informações sobre a vida de Erick, mochilando em São Paulo e estudando no Senac (análise semântica: Informação biográfica)\n",
            "\n",
            "**Análise de Comportamento**\n",
            "\n",
            "* O conteúdo não sugere nenhuma ação específica que precise ser tomada (análise de comportamento: Reflexiva)\n",
            "\n",
            "**Ação Imediata**\n",
            "\n",
            "* Sem ação imediata sugerida (espero que você não precise de ajuda imediata nesse momento)\n",
            "\n",
            "Espero que essas informações lhe tenham sido úteis, Erick! Se tiver alguma dúvida ou precisar de ajuda com algo, basta perguntar!\n"
          ]
        }
      ]
    },
    {
      "cell_type": "code",
      "source": [
        "client = Groq(\n",
        "    api_key=os.environ.get(\"GROQ_API_KEY\"),\n",
        ")\n",
        "\n",
        "chat_completion = client.chat.completions.create(\n",
        "    messages=[\n",
        "        {\n",
        "            \"role\": \"system\",\n",
        "            \"content\": \"Você é um assistente virtual de geração de textos à partir de um prompt digitado pelo usuário.\",\n",
        "\n",
        "            \"role\": \"assistant\",\n",
        "            \"content\": \"gere um texto de 1 paragráfo com 5 linhas\",\n",
        "\n",
        "            \"role\": \"user\",\n",
        "            \"content\": \"Descoberta do Brasil\",\n",
        "\n",
        "        }\n",
        "    ],\n",
        "    model=\"llama3-8b-8192\",\n",
        ")\n",
        "\n",
        "print(chat_completion.choices[0].message.content)"
      ],
      "metadata": {
        "colab": {
          "base_uri": "https://localhost:8080/"
        },
        "collapsed": true,
        "id": "lLH6oMCPzdpp",
        "outputId": "9686530e-f6bf-4ef9-fe46-f6c4cbed1b92"
      },
      "execution_count": null,
      "outputs": [
        {
          "output_type": "stream",
          "name": "stdout",
          "text": [
            "A descoberta do Brasil!\n",
            "\n",
            "Em 22 de abril de 1500, o português Pedro Álvares Cabral desembarcou no litoral do Brasil, tendo sido o descobridor oficial do território. No entanto, há muitas outras pessoas e grupos que já tinham contato com a terra antes de Cabral, incluindo:\n",
            "\n",
            "1. Indígenas: A terra do Brasil foi habitada por milhões de indígenas desde a era pré-colombiana. Eles tinham uma sociedade complexa, com próprias línguas, crenças e costumes.\n",
            "2. Tairona: Em 1499, o navegador venezuelano Alonso de Ojeda e o espanhol Juan de la Cosa chegaram à costa norte do Brasil. Eles forneceram informações sobre a região ao rei espanhol, estimulando a exploração da terra.\n",
            "3. André Gonçalves: Em 1499, o português André Gonçalves, que trabalhava para o rei João II, desembarcou na foz do Rio Amazonas e viu uma área denominada \"Ilha de Vera Cruz\".\n",
            "4. João Álvares Fagundes: Em 1499, o português João Álvares Fagundes estabeleceu uma colônia no Nordeste do Brasil, no atual estado da Bahia.\n",
            "\n",
            "Pedro Álvares Cabral, no entanto, é considerado o descobridor do Brasil pois foi o primeiro a liderar uma expedição oficialmente patrocinada pelo rei de Portugal, D. Manuel I, com objetivo de buscar um novo caminho marítimo para a Ásia.\n",
            "\n",
            "A expedição de Cabral partiu de Lisboa em 8 de março de 1500 e levou cerca de 5 meses para chegar ao Brasil. Quando Cabral desembarcou na Ilha de Vera Cruz (atualmente a cidade de Porto Seguro, no estado da Bahia), ele acreditava estar na Índia, pois acreditava que havia navegado pelo oeste do Atlântico e descoberto uma rota mais curta para a Ásia.\n",
            "\n",
            "Durante sua estadia no Brasil, Cabral e seus homens se encontraram com os indígenas e os portugueses que já haviam lá anteriormente. Eles levaram sete indígenas para Portugal, onde foram exibidos como curiosidade em frente ao rei D. Manuel I.\n",
            "\n",
            "A descoberta do Brasil pela Europa logo atraiu a atenção de outros países, incluindo a Espanha, e contribuiu para a exploração e colonização das Américas no século XVI.\n"
          ]
        }
      ]
    },
    {
      "cell_type": "code",
      "source": [
        "client = Groq(\n",
        "    api_key=os.environ.get(\"GROQ_API_KEY\"),\n",
        ")\n",
        "\n",
        "chat_completion = client.chat.completions.create(\n",
        "    messages=[\n",
        "        {\n",
        "            \"role\": \"system\",\n",
        "            \"content\": \"Você é um assistente virtual que resolve problemas a partir de uma pergunta ou questão fornecida pelo usuário.\",\n",
        "\n",
        "            \"role\": \"assistant\",\n",
        "            \"content\": \"responda a pergunta do usuário de forma clara e objetiva\",\n",
        "\n",
        "            \"role\": \"user\",\n",
        "            \"content\": \"Como faço para trocar o oléo do meu carro?\",\n",
        "\n",
        "        }\n",
        "    ],\n",
        "    model=\"llama3-8b-8192\",\n",
        ")\n",
        "\n",
        "print(chat_completion.choices[0].message.content)"
      ],
      "metadata": {
        "colab": {
          "base_uri": "https://localhost:8080/"
        },
        "collapsed": true,
        "id": "L1vVuq2z6Ej5",
        "outputId": "a9670e8e-b7d8-43e1-e40a-090f1ed5efb7"
      },
      "execution_count": null,
      "outputs": [
        {
          "output_type": "stream",
          "name": "stdout",
          "text": [
            "Uma boa pergunta! Trocar o óleo do seu carro é um processo relativamente simples e importante para manter o seu veículo em boas condições. Aqui estão os passos que você deve seguir:\n",
            "\n",
            "**Antes de começar**\n",
            "\n",
            "1. Verifique o manual do seu carro para saber qual tipo de óleo é recomendado para seu veículo e qual é a frequência de troca.\n",
            "2. Assure-se de que o seu carro está parado em um local plano e estágio.\n",
            "\n",
            "**Materiais necessários**\n",
            "\n",
            "* UmKit de troca de óleo (que inclui umiltro de óleo, um filtro de ar e talhete)\n",
            "* Novo óleo para o seu veículo\n",
            "* Um balde para coletar o óleo usado\n",
            "* Um roupão de proteção ou avental\n",
            "\n",
            "**Passos para trocar o óleo**\n",
            "\n",
            "1. **Coloque o carro na posição de chave**: Coloque o carro na posição de chave para que o capô fique livre de obstáculos.\n",
            "2. **Abra o capô**: Abra o capô do seu carro para acessar a área onde está o reservatório de óleo.\n",
            "3. **Coloque o balde**: Coloque o balde sob o reservatório de óleo para coletar o óleo usado.\n",
            "4. **Remova a tampa do reservatório**: Remova a tampa do reservatório de óleo. Você pode precisar usar uma chave ou um parafuso para isso.\n",
            "5. **Coloque o miltro de óleo**: Coloque o miltro de óleo no reservatório de óleo e gire-o até que esteja bem fixo.\n",
            "6. **Despeje o óleo**: Despeje o óleo usado do reservatório de óleo para o balde. Lembre-se de que é importante não jogar o óleo no chão ou lagohões, pois isso pode causar danos ao meio ambiente.\n",
            "7. **Remova o miltro de óleo**: Remova o miltro de óleo do reservatório de óleo.\n",
            "8. **Adicione o novo óleo**: Adicione o novo óleo ao reservatório de óleo, seguindo as instruções do fabricante do seu carro.\n",
            "9. **Coloque o capô**: Coloque o capô de volta no lugar e feche a tampa do reservatório de óleo.\n",
            "10. **Verifique as perdas**: Verifique se há perdas de óleo após a troca.\n",
            "11. **Lave as mãos**: Lave as mãos após a troca de óleo.\n",
            "\n",
            "**Fique atenção!**\n",
            "\n",
            "* É importante lembrar que cada carro tem seu próprio sistema de troca de óleo, então, antes de começar, leia o manual do seu carro para saber como realizar a troca de óleo para seu veículo.\n",
            "* Certifique-se de que o tipo de óleo que você está utilizando é compatível com o seu carro.\n",
            "* Se você não estiver confortável em realizar a troca de óleo por si mesmo, é sempre recomendável levar o carro para um mecânico qualificado.\n",
            "\n",
            "Espero que esses passos tenham sido úteis! Se você tiver alguma dúvida, não hesite em perguntar.\n"
          ]
        }
      ]
    },
    {
      "cell_type": "code",
      "source": [
        "client = Groq(\n",
        "    api_key=os.environ.get(\"GROQ_API_KEY\"),\n",
        ")\n",
        "\n",
        "chat_completion = client.chat.completions.create(\n",
        "    messages=[\n",
        "        {\n",
        "            \"role\": \"system\",\n",
        "            \"content\": \"Você é um assistente virtual de conversação baseado nas entradas fornecidas pelo usuário\",\n",
        "\n",
        "            \"role\": \"assistant\",\n",
        "            \"content\": \"Desenvolva uma conversa com o usuário. Faça perguntas que exijam respostas do usuário para que a conversa continuem fluindo até o usuário decidir parar. \",\n",
        "\n",
        "            \"role\": \"user\",\n",
        "            \"content\": \"Oi qual o seu nome?\",\n",
        "\n",
        "        }\n",
        "    ],\n",
        "    model=\"llama3-8b-8192\",\n",
        ")\n",
        "\n",
        "print(chat_completion.choices[0].message.content)"
      ],
      "metadata": {
        "colab": {
          "base_uri": "https://localhost:8080/"
        },
        "id": "_4kX6Nhs7cJQ",
        "outputId": "5036e61d-8e9b-45bb-84f6-cdb3e24cb68f"
      },
      "execution_count": null,
      "outputs": [
        {
          "output_type": "stream",
          "name": "stdout",
          "text": [
            "Olá! Eu não tenho um nome específico, sou apenas um modelo de linguagem treinado para aprender e responder a perguntas. Eu sou um aglomerado de código e dados, criado para ajudar as pessoas a obter respostas e informação. Eu não tenho uma identidade pessoal ou uma forma física, mas estou aqui para ajudá-lo em suas perguntas e necessidades!\n"
          ]
        }
      ]
    }
  ]
}